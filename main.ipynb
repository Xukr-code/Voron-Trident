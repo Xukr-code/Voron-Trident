{
  "cells": [
    {
      "cell_type": "markdown",
      "metadata": {
        "id": "idxAn2k7Dn9a"
      },
      "source": [
        "#### Step 0\n",
        "\n",
        "Install dependencies. Restart once if it says you need to"
      ]
    },
    {
      "cell_type": "code",
      "execution_count": 1,
      "metadata": {
        "colab": {
          "base_uri": "https://localhost:8080/"
        },
        "id": "4Yp-p1pgEJ0E",
        "outputId": "c637e3d1-8c55-447d-9d6a-23d521a27597"
      },
      "outputs": [
        {
          "output_type": "stream",
          "name": "stdout",
          "text": [
            "Cloning into 'Radial_Non_Planar_Slicer'...\n",
            "remote: Enumerating objects: 39, done.\u001b[K\n",
            "remote: Counting objects: 100% (39/39), done.\u001b[K\n",
            "remote: Compressing objects: 100% (32/32), done.\u001b[K\n",
            "remote: Total 39 (delta 17), reused 19 (delta 6), pack-reused 0 (from 0)\u001b[K\n",
            "Receiving objects: 100% (39/39), 4.83 MiB | 13.94 MiB/s, done.\n",
            "Resolving deltas: 100% (17/17), done.\n"
          ]
        }
      ],
      "source": [
        "# only necessary for google colab! to load models into session\n",
        "!git clone https://github.com/jyjblrd/Radial_Non_Planar_Slicer\n",
        "!mv Radial_Non_Planar_Slicer/input_models ./input_models\n",
        "!mkdir output_models"
      ]
    },
    {
      "cell_type": "code",
      "execution_count": 2,
      "metadata": {
        "colab": {
          "base_uri": "https://localhost:8080/",
          "height": 1000
        },
        "id": "TOBDpcUCDn9a",
        "outputId": "411e9f5d-78ec-4ba2-8684-d26b3ba209a5"
      },
      "outputs": [
        {
          "output_type": "stream",
          "name": "stdout",
          "text": [
            "Collecting pyvista\n",
            "  Downloading pyvista-0.44.2-py3-none-any.whl.metadata (15 kB)\n",
            "Requirement already satisfied: matplotlib>=3.0.1 in /usr/local/lib/python3.10/dist-packages (from pyvista) (3.8.0)\n",
            "Requirement already satisfied: numpy>=1.21.0 in /usr/local/lib/python3.10/dist-packages (from pyvista) (1.26.4)\n",
            "Requirement already satisfied: pillow in /usr/local/lib/python3.10/dist-packages (from pyvista) (11.0.0)\n",
            "Requirement already satisfied: pooch in /usr/local/lib/python3.10/dist-packages (from pyvista) (1.8.2)\n",
            "Requirement already satisfied: scooby>=0.5.1 in /usr/local/lib/python3.10/dist-packages (from pyvista) (0.10.0)\n",
            "Collecting vtk<9.4.0 (from pyvista)\n",
            "  Downloading vtk-9.3.1-cp310-cp310-manylinux_2_17_x86_64.manylinux2014_x86_64.whl.metadata (5.2 kB)\n",
            "Requirement already satisfied: typing-extensions in /usr/local/lib/python3.10/dist-packages (from pyvista) (4.12.2)\n",
            "Requirement already satisfied: contourpy>=1.0.1 in /usr/local/lib/python3.10/dist-packages (from matplotlib>=3.0.1->pyvista) (1.3.1)\n",
            "Requirement already satisfied: cycler>=0.10 in /usr/local/lib/python3.10/dist-packages (from matplotlib>=3.0.1->pyvista) (0.12.1)\n",
            "Requirement already satisfied: fonttools>=4.22.0 in /usr/local/lib/python3.10/dist-packages (from matplotlib>=3.0.1->pyvista) (4.55.1)\n",
            "Requirement already satisfied: kiwisolver>=1.0.1 in /usr/local/lib/python3.10/dist-packages (from matplotlib>=3.0.1->pyvista) (1.4.7)\n",
            "Requirement already satisfied: packaging>=20.0 in /usr/local/lib/python3.10/dist-packages (from matplotlib>=3.0.1->pyvista) (24.2)\n",
            "Requirement already satisfied: pyparsing>=2.3.1 in /usr/local/lib/python3.10/dist-packages (from matplotlib>=3.0.1->pyvista) (3.2.0)\n",
            "Requirement already satisfied: python-dateutil>=2.7 in /usr/local/lib/python3.10/dist-packages (from matplotlib>=3.0.1->pyvista) (2.8.2)\n",
            "Requirement already satisfied: platformdirs>=2.5.0 in /usr/local/lib/python3.10/dist-packages (from pooch->pyvista) (4.3.6)\n",
            "Requirement already satisfied: requests>=2.19.0 in /usr/local/lib/python3.10/dist-packages (from pooch->pyvista) (2.32.3)\n",
            "Requirement already satisfied: six>=1.5 in /usr/local/lib/python3.10/dist-packages (from python-dateutil>=2.7->matplotlib>=3.0.1->pyvista) (1.16.0)\n",
            "Requirement already satisfied: charset-normalizer<4,>=2 in /usr/local/lib/python3.10/dist-packages (from requests>=2.19.0->pooch->pyvista) (3.4.0)\n",
            "Requirement already satisfied: idna<4,>=2.5 in /usr/local/lib/python3.10/dist-packages (from requests>=2.19.0->pooch->pyvista) (3.10)\n",
            "Requirement already satisfied: urllib3<3,>=1.21.1 in /usr/local/lib/python3.10/dist-packages (from requests>=2.19.0->pooch->pyvista) (2.2.3)\n",
            "Requirement already satisfied: certifi>=2017.4.17 in /usr/local/lib/python3.10/dist-packages (from requests>=2.19.0->pooch->pyvista) (2024.8.30)\n",
            "Downloading pyvista-0.44.2-py3-none-any.whl (2.2 MB)\n",
            "\u001b[2K   \u001b[90m━━━━━━━━━━━━━━━━━━━━━━━━━━━━━━━━━━━━━━━━\u001b[0m \u001b[32m2.2/2.2 MB\u001b[0m \u001b[31m19.3 MB/s\u001b[0m eta \u001b[36m0:00:00\u001b[0m\n",
            "\u001b[?25hDownloading vtk-9.3.1-cp310-cp310-manylinux_2_17_x86_64.manylinux2014_x86_64.whl (92.1 MB)\n",
            "\u001b[2K   \u001b[90m━━━━━━━━━━━━━━━━━━━━━━━━━━━━━━━━━━━━━━━━\u001b[0m \u001b[32m92.1/92.1 MB\u001b[0m \u001b[31m6.3 MB/s\u001b[0m eta \u001b[36m0:00:00\u001b[0m\n",
            "\u001b[?25hInstalling collected packages: vtk, pyvista\n",
            "Successfully installed pyvista-0.44.2 vtk-9.3.1\n",
            "Requirement already satisfied: networkx in /usr/local/lib/python3.10/dist-packages (3.4.2)\n",
            "Collecting pygcode\n",
            "  Downloading pygcode-0.2.1-py2.py3-none-any.whl.metadata (1.3 kB)\n",
            "Collecting argparse (from pygcode)\n",
            "  Downloading argparse-1.4.0-py2.py3-none-any.whl.metadata (2.8 kB)\n",
            "Collecting euclid3 (from pygcode)\n",
            "  Downloading euclid3-0.01.tar.gz (13 kB)\n",
            "  Preparing metadata (setup.py) ... \u001b[?25l\u001b[?25hdone\n",
            "Requirement already satisfied: six in /usr/local/lib/python3.10/dist-packages (from pygcode) (1.16.0)\n",
            "Downloading pygcode-0.2.1-py2.py3-none-any.whl (59 kB)\n",
            "\u001b[2K   \u001b[90m━━━━━━━━━━━━━━━━━━━━━━━━━━━━━━━━━━━━━━━━\u001b[0m \u001b[32m59.4/59.4 kB\u001b[0m \u001b[31m2.3 MB/s\u001b[0m eta \u001b[36m0:00:00\u001b[0m\n",
            "\u001b[?25hDownloading argparse-1.4.0-py2.py3-none-any.whl (23 kB)\n",
            "Building wheels for collected packages: euclid3\n",
            "  Building wheel for euclid3 (setup.py) ... \u001b[?25l\u001b[?25hdone\n",
            "  Created wheel for euclid3: filename=euclid3-0.1-py3-none-any.whl size=13228 sha256=c426e7382ac46342e9fda91899819508d9e445d2bd45a4360345ab86b0a547a7\n",
            "  Stored in directory: /root/.cache/pip/wheels/de/da/b2/2e7210cef642841ee435e222a5a13bab3da2d4e0958802664e\n",
            "Successfully built euclid3\n",
            "Installing collected packages: euclid3, argparse, pygcode\n",
            "Successfully installed argparse-1.4.0 euclid3-0.1 pygcode-0.2.1\n"
          ]
        },
        {
          "output_type": "display_data",
          "data": {
            "application/vnd.colab-display-data+json": {
              "pip_warning": {
                "packages": [
                  "argparse"
                ]
              },
              "id": "7258acea08b64269a7b3367004503eed"
            }
          },
          "metadata": {}
        },
        {
          "output_type": "stream",
          "name": "stdout",
          "text": [
            "Requirement already satisfied: scipy in /usr/local/lib/python3.10/dist-packages (1.13.1)\n",
            "Requirement already satisfied: numpy<2.3,>=1.22.4 in /usr/local/lib/python3.10/dist-packages (from scipy) (1.26.4)\n",
            "\u001b[31mERROR: Operation cancelled by user\u001b[0m\u001b[31m\n",
            "\u001b[0m"
          ]
        }
      ],
      "source": [
        "!pip install pyvista\n",
        "!pip install networkx\n",
        "!pip install pygcode\n",
        "!pip install scipy"
      ]
    },
    {
      "cell_type": "code",
      "execution_count": 3,
      "metadata": {
        "id": "mTgUvraCDn9b"
      },
      "outputs": [],
      "source": [
        "import numpy as np\n",
        "import pyvista as pv\n",
        "import networkx as nx\n",
        "from pygcode import Line\n",
        "import time\n",
        "from scipy.spatial.transform import Rotation as R\n",
        "import matplotlib.pyplot as plt"
      ]
    },
    {
      "cell_type": "markdown",
      "metadata": {
        "id": "1NuNL_9JDn9b"
      },
      "source": [
        "#### Step 1\n",
        "Enter a model name from the input_models folder\n",
        "\n",
        "This code deforms the mesh and outputs a file called output_models/MODEL_NAME_unwrapped.stl"
      ]
    },
    {
      "cell_type": "code",
      "execution_count": 4,
      "metadata": {
        "colab": {
          "base_uri": "https://localhost:8080/",
          "height": 708
        },
        "id": "_sRmu36JDn9b",
        "outputId": "700274fc-3616-44d1-fd88-d58c9ca93309"
      },
      "outputs": [
        {
          "output_type": "display_data",
          "data": {
            "text/plain": [
              "<Figure size 1200x1200 with 1 Axes>"
            ],
            "image/png": "[encoded data removed]"
          },
          "metadata": {}
        }
      ],
      "source": [
        "MODEL_NAME = 'propeller'\n",
        "\n",
        "# Load the mesh\n",
        "mesh = pv.read(f'input_models/{MODEL_NAME}.stl')\n",
        "mesh.field_data[\"faces\"] = mesh.faces.reshape(-1, 4)[:, 1:] # assume all triangles\n",
        "\n",
        "# scale mesh\n",
        "mesh.points *= 1\n",
        "\n",
        "# center around the middle of the bounding box\n",
        "xmin, xmax, ymin, ymax, zmin, zmax = mesh.bounds\n",
        "mesh.points -= np.array([(xmin + xmax) / 2, (ymin + ymax) / 2, zmin])\n",
        "# mesh.points -= np.array([0, 0, 0]) # optionally offset the part from the center\n",
        "\n",
        "mesh.points = mesh.points[:10]\n",
        "\n",
        "# max radius of part\n",
        "max_radius = np.max(np.linalg.norm(mesh.points[:, :2], axis=1))\n",
        "\n",
        "# define rotation as a function of radius\n",
        "ROTATION = lambda radius: np.deg2rad(15 + 30 * (radius / max_radius)) # Use for propeller and tree\n",
        "# ROTATION = lambda radius: np.full_like(radius, np.deg2rad(-40)) # Fixed rotation inwards\n",
        "# ROTATION = lambda radius: np.deg2rad(-40 + 30 * (1 - (radius / max_radius)) ** 2) # Use for bridge\n",
        "\n",
        "# rotate points around max diameter ring\n",
        "distances_to_center = np.linalg.norm(mesh.points[:, :2], axis=1)\n",
        "translate_upwards = np.hstack([np.zeros((len(mesh.points), 2)), np.tan(ROTATION(distances_to_center).reshape(-1, 1)) * distances_to_center.reshape(-1, 1)])\n",
        "\n",
        "mesh.points = mesh.points + translate_upwards\n",
        "\n",
        "# make bottom of part z=0 and center in bound box. remember the offsets for later\n",
        "xmin, xmax, ymin, ymax, zmin, zmax = mesh.bounds\n",
        "offsets_applied = np.array([(xmin + xmax) / 2, (ymin + ymax) / 2, zmin])\n",
        "mesh.points -= offsets_applied\n",
        "\n",
        "# save the mesh\n",
        "mesh.save(f'output_models/{MODEL_NAME}_unwrapped.stl')\n",
        "\n",
        "# mesh.plot() # doesnt work in google colab?\n",
        "# plot in matplot lib if in google colab\n",
        "plt.figure(figsize=(12, 12))\n",
        "plt.scatter(mesh.points[:, 0], mesh.points[:, 2], s=1)\n",
        "plt.gca().set_aspect('equal')\n",
        "plt.xlabel(\"X\")\n",
        "plt.ylabel(\"Y\")\n",
        "plt.title(\"Scatter Plot of G-code Points\")\n",
        "plt.show()"
      ]
    },
    {
      "cell_type": "markdown",
      "metadata": {
        "id": "6SndSz6lDn9b"
      },
      "source": [
        "#### Step 2\n",
        "\n",
        "Take output_models/MODEL_NAME_unwrapped.stl and slice it in cura. Make sure the origin of the printer is the center of the print bed, and that the model is in the middle of the printbed.\n",
        "\n",
        "Upload MODEL_NAME_unwrapped.stl into input_models."
      ]
    },
    {
      "cell_type": "markdown",
      "metadata": {
        "id": "Om0im7UgDn9b"
      },
      "source": [
        "#### Step 3\n",
        "\n",
        "Run the code below.\n",
        "\n",
        "It parses the gcode and un-deforms it."
      ]
    },
    {
      "cell_type": "code",
      "execution_count": 2,
      "metadata": {
        "id": "UydgglefDn9b",
        "outputId": "f7aa71f3-3efc-428c-b0c9-b1b5db4c9a3a",
        "colab": {
          "base_uri": "https://localhost:8080/",
          "height": 211
        }
      },
      "outputs": [
        {
          "output_type": "error",
          "ename": "NameError",
          "evalue": "name 'np' is not defined",
          "traceback": [
            "\u001b[0;31m---------------------------------------------------------------------------\u001b[0m",
            "\u001b[0;31mNameError\u001b[0m                                 Traceback (most recent call last)",
            "\u001b[0;32m<ipython-input-2-3dd74605187e>\u001b[0m in \u001b[0;36m<cell line: 2>\u001b[0;34m()\u001b[0m\n\u001b[1;32m      1\u001b[0m \u001b[0;31m# read gcode\u001b[0m\u001b[0;34m\u001b[0m\u001b[0;34m\u001b[0m\u001b[0m\n\u001b[0;32m----> 2\u001b[0;31m \u001b[0mpos\u001b[0m \u001b[0;34m=\u001b[0m \u001b[0mnp\u001b[0m\u001b[0;34m.\u001b[0m\u001b[0marray\u001b[0m\u001b[0;34m(\u001b[0m\u001b[0;34m[\u001b[0m\u001b[0;36m0.\u001b[0m\u001b[0;34m,\u001b[0m \u001b[0;36m0.\u001b[0m\u001b[0;34m,\u001b[0m \u001b[0;36m20.\u001b[0m\u001b[0;34m]\u001b[0m\u001b[0;34m)\u001b[0m\u001b[0;34m\u001b[0m\u001b[0;34m\u001b[0m\u001b[0m\n\u001b[0m\u001b[1;32m      3\u001b[0m \u001b[0mfeed\u001b[0m \u001b[0;34m=\u001b[0m \u001b[0;36m0\u001b[0m\u001b[0;34m\u001b[0m\u001b[0;34m\u001b[0m\u001b[0m\n\u001b[1;32m      4\u001b[0m \u001b[0mgcode_points\u001b[0m \u001b[0;34m=\u001b[0m \u001b[0;34m[\u001b[0m\u001b[0;34m]\u001b[0m\u001b[0;34m\u001b[0m\u001b[0;34m\u001b[0m\u001b[0m\n\u001b[1;32m      5\u001b[0m \u001b[0mi\u001b[0m \u001b[0;34m=\u001b[0m \u001b[0;36m0\u001b[0m\u001b[0;34m\u001b[0m\u001b[0;34m\u001b[0m\u001b[0m\n",
            "\u001b[0;31mNameError\u001b[0m: name 'np' is not defined"
          ]
        }
      ],
      "source": [
        "# read gcode\n",
        "pos = np.array([0., 0., 20.])\n",
        "feed = 0\n",
        "gcode_points = []\n",
        "i = 0\n",
        "with open(f'input_models/{MODEL_NAME}_unwrapped.gcode', 'r') as fh:\n",
        "    for line_text in fh.readlines():\n",
        "        line = Line(line_text)\n",
        "\n",
        "        extrusion = None\n",
        "\n",
        "        move_command_seen = False\n",
        "\n",
        "        if not line.block.gcodes:\n",
        "            continue\n",
        "\n",
        "        # extract position and feedrate\n",
        "        for gcode in sorted(line.block.gcodes):\n",
        "            if gcode.word == \"G01\" or gcode.word == \"G00\":\n",
        "                move_command_seen = True\n",
        "                prev_pos = pos.copy()\n",
        "\n",
        "                if gcode.X is not None:\n",
        "                    pos[0] = gcode.X\n",
        "                if gcode.Y is not None:\n",
        "                    pos[1] = gcode.Y\n",
        "                if gcode.Z is not None:\n",
        "                    pos[2] = gcode.Z\n",
        "\n",
        "            if gcode.word.letter == \"F\":\n",
        "                feed = gcode.word.value\n",
        "\n",
        "        if not move_command_seen:\n",
        "            continue\n",
        "\n",
        "        # extract extrusion\n",
        "        for param in line.block.modal_params:\n",
        "            if param.letter == \"E\":\n",
        "                extrusion = param.value\n",
        "\n",
        "\n",
        "        # segment moves\n",
        "        # prevents G0 (rapid moves) from hitting the part\n",
        "        # makes G1 (feed moves) less jittery\n",
        "        delta_pos = pos - prev_pos\n",
        "        distance = np.linalg.norm(delta_pos)\n",
        "        if distance > 0 and gcode.word == \"G01\":\n",
        "            seg_size = 1 # mm\n",
        "            num_segments = -(-distance // seg_size) # hacky round up\n",
        "            seg_distance = distance/num_segments\n",
        "\n",
        "            # calculate inverse time feed\n",
        "            time_to_complete_move = (1/feed) * seg_distance # min/mm * mm = min\n",
        "            if time_to_complete_move == 0:\n",
        "                inv_time_feed = None\n",
        "            else:\n",
        "                inv_time_feed = 1/time_to_complete_move # 1/min\n",
        "\n",
        "            for i in range(int(num_segments)):\n",
        "                gcode_points.append({\n",
        "                    \"position\": (prev_pos + delta_pos * (i+1) / num_segments) + offsets_applied,\n",
        "                    \"command\": gcode.word,\n",
        "                    \"extrusion\": extrusion/num_segments if extrusion is not None else None,\n",
        "                    \"inv_time_feed\": inv_time_feed,\n",
        "                    \"move_length\": seg_distance,\n",
        "                    \"start_position\": prev_pos,\n",
        "                    \"end_position\": pos,\n",
        "                    \"unsegmented_move_length\": distance\n",
        "                })\n",
        "        else:\n",
        "            gcode_points.append({\n",
        "                \"position\": pos.copy() + offsets_applied,\n",
        "                \"command\": gcode.word,\n",
        "                \"extrusion\": extrusion,\n",
        "                \"inv_time_feed\": None,\n",
        "                \"move_length\": 0\n",
        "            })\n",
        "\n",
        "# untransform gcode\n",
        "positions = np.array([point[\"position\"] for point in gcode_points])\n",
        "distances_to_center = np.linalg.norm(positions[:, :2], axis=1)\n",
        "translate_upwards = np.hstack([np.zeros((len(positions), 2)), np.tan(ROTATION(distances_to_center).reshape(-1, 1)) * distances_to_center.reshape(-1, 1)])\n",
        "\n",
        "new_positions = positions - translate_upwards\n",
        "\n",
        "# cap travel move height to be just above the part and to not travel over the origin\n",
        "max_z = 0\n",
        "for i, point in enumerate(gcode_points):\n",
        "    if point[\"command\"] == \"G01\":\n",
        "        max_z = max(max_z, new_positions[i][2])\n",
        "for i, point in enumerate(gcode_points):\n",
        "    if point[\"command\"] == \"G00\":\n",
        "        if new_positions[i][2] > max_z:\n",
        "            new_positions[i] = None\n",
        "\n",
        "\n",
        "# rescale extrusion by change in move_length\n",
        "prev_pos = np.array([0., 0., 0.])\n",
        "for i, point in enumerate(gcode_points):\n",
        "    if point[\"extrusion\"] is not None and point[\"move_length\"] != 0:\n",
        "        extrusion_scale = np.linalg.norm(new_positions[i] - prev_pos) / point[\"move_length\"]\n",
        "        point[\"extrusion\"] *= min(extrusion_scale, 10)\n",
        "    prev_pos = new_positions[i]\n",
        "\n",
        "# rescale extrusion to compensate for rotation deformation\n",
        "distances_to_center = np.linalg.norm(new_positions[:, :2], axis=1)\n",
        "extrusion_scales = np.cos(ROTATION(distances_to_center))\n",
        "for i, point in enumerate(gcode_points):\n",
        "    if point[\"extrusion\"] is not None:\n",
        "        point[\"extrusion\"] *= extrusion_scales[i]\n",
        "\n"
      ]
    },
    {
      "cell_type": "markdown",
      "metadata": {
        "id": "wf0pi59HDn9b"
      },
      "source": [
        "#### Step 4\n",
        "\n",
        "Run the code below.\n",
        "\n",
        "It writes the un-deformed model to output_models/MODEL_NAME_unwrapped.gcode"
      ]
    },
    {
      "cell_type": "code",
      "execution_count": null,
      "metadata": {
        "id": "puXlHGGKDn9c"
      },
      "outputs": [],
      "source": [
        "NOZZLE_OFFSET = 43 # mm\n",
        "\n",
        "prev_r = 0\n",
        "prev_theta = 0\n",
        "prev_z = 20\n",
        "\n",
        "theta_accum = 0\n",
        "\n",
        "# save transformed gcode\n",
        "with open(f'output_models/{MODEL_NAME}_unwrapped.gcode', 'w') as fh:\n",
        "    # write header\n",
        "    fh.write(\"G94 ; mm/min feed  \\n\")\n",
        "    fh.write(\"G28 ; home \\n\")\n",
        "    fh.write(\"M83 ; relative extrusion \\n\")\n",
        "    fh.write(\"G1 E10 ; prime extruder \\n\")\n",
        "    fh.write(\"G94 ; mm/min feed \\n\")\n",
        "    fh.write(\"G90 ; absolute positioning \\n\")\n",
        "    fh.write(f\"G0 C{prev_theta} X{prev_r} Z{prev_z} B{-np.rad2deg(ROTATION(0))}\\n\")\n",
        "    fh.write(\"G93 ; inverse time feed \\n\")\n",
        "\n",
        "    for i, point in enumerate(gcode_points):\n",
        "        position = new_positions[i]\n",
        "\n",
        "        if position is None:\n",
        "            continue\n",
        "\n",
        "        if np.all(np.isnan(position)):\n",
        "            continue\n",
        "\n",
        "        if position[2] < 0:\n",
        "            continue\n",
        "\n",
        "        #################################################################################################\n",
        "        ### If you want to print on another type of 4 axis printer, you will need to change this code ###\n",
        "        #################################################################################################\n",
        "        # convert to polar coordinates\n",
        "        r = np.linalg.norm(position[:2])\n",
        "        theta = np.arctan2(position[1], position[0])\n",
        "        z = position[2]\n",
        "\n",
        "        rotation = ROTATION(r) * 1\n",
        "\n",
        "        # compensate for nozzle offset\n",
        "        r += np.sin(rotation) * NOZZLE_OFFSET\n",
        "        z += (np.cos(rotation) - 1) * NOZZLE_OFFSET\n",
        "\n",
        "        delta_theta = theta - prev_theta\n",
        "        if delta_theta > np.pi:\n",
        "            delta_theta -= 2*np.pi\n",
        "        if delta_theta < -np.pi:\n",
        "            delta_theta += 2*np.pi\n",
        "\n",
        "        theta_accum += delta_theta\n",
        "\n",
        "        string = f\"{point['command']} C{np.rad2deg(theta_accum):.5f} X{r:.5f} Z{z:.5f} B{-np.rad2deg(rotation):.5f}\"\n",
        "        #################################################################################################\n",
        "        ### If you want to print on another type of 4 axis printer, you will need to change this code ###\n",
        "        #################################################################################################\n",
        "\n",
        "\n",
        "        if point[\"extrusion\"] is not None:\n",
        "            string += f\" E{point['extrusion']:.4f}\"\n",
        "\n",
        "        no_feed_value = False\n",
        "        if point[\"inv_time_feed\"] is not None:\n",
        "            string += f\" F{(point['inv_time_feed']):.4f}\"\n",
        "        else:\n",
        "            string += f\" F50000\"\n",
        "            fh.write(f\"G94\\n\")\n",
        "            no_feed_value = True\n",
        "\n",
        "        fh.write(string + \"\\n\")\n",
        "\n",
        "        if no_feed_value:\n",
        "            fh.write(f\"G93\\n\") # back to inv feed\n",
        "\n",
        "        # update previous values\n",
        "        prev_r = r\n",
        "        prev_theta = theta\n",
        "        prev_z = z"
      ]
    },
    {
      "cell_type": "markdown",
      "metadata": {
        "id": "SN31gb-6Dn9c"
      },
      "source": [
        "#### Step 5\n",
        "\n",
        "View the un-deformed model"
      ]
    },
    {
      "cell_type": "code",
      "execution_count": null,
      "metadata": {
        "id": "Uqy0zfV4Dn9c"
      },
      "outputs": [],
      "source": [
        "# get where z > 0\n",
        "z = new_positions[:, 2]\n",
        "point_cloud = pv.PolyData(new_positions[z > 0])\n",
        "\n",
        "\n",
        "# point_cloud.plot(scalars=np.arange(len(new_positions[z > 0]))%2000, point_size=20, render_points_as_spheres=True) # doesnt work in google colab? uncomment to view if not in google colab\n",
        "\n",
        "# plot in matplotlib\n",
        "g01_points = np.array([new_positions[i] for i, point in enumerate(gcode_points) if point[\"command\"] == \"G01\"])\n",
        "original_points = np.array([point[\"position\"] for point in gcode_points if point[\"command\"] == \"G01\"])\n",
        "\n",
        "plt.figure(figsize=(12, 12))\n",
        "c = original_points[:, 2][::-1] % 5 / 5\n",
        "plt.scatter(g01_points[:, 0], g01_points[:, 2], s=1, c=c)\n",
        "plt.gca().set_aspect('equal')\n",
        "plt.xlabel(\"X\")\n",
        "plt.ylabel(\"Y\")\n",
        "plt.title(\"Scatter Plot of G-code Points\")\n",
        "plt.show()"
      ]
    },
    {
      "cell_type": "markdown",
      "metadata": {
        "id": "DFCovdvQFfrk"
      },
      "source": [
        "#### Step 6\n",
        "\n",
        "print MODEL_NAME_unwrapped.gcode"
      ]
    }
  ],
  "metadata": {
    "colab": {
      "provenance": [],
      "toc_visible": true
    },
    "kernelspec": {
      "display_name": "Python 3",
      "language": "python",
      "name": "python3"
    },
    "language_info": {
      "name": "python",
      "version": "3.7.17"
    }
  },
  "nbformat": 4,
  "nbformat_minor": 0
}